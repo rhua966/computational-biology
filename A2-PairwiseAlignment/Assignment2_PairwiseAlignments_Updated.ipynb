{
 "cells": [
  {
   "cell_type": "markdown",
   "metadata": {},
   "source": [
    "---"
   ]
  },
  {
   "cell_type": "markdown",
   "metadata": {},
   "source": [
    "# CS 369 2020 \n",
    "\n",
    "\n",
    "Student: Rui Huang\n",
    "\n",
    "UPI: rhua966\n",
    "\n",
    "\n",
    "## Assignment 2 : Pairwise Sequence Alignment (7.5 points)\n",
    "\n",
    "Due date: Tue 28/4/2020 at 23:59\n",
    "\n",
    " "
   ]
  },
  {
   "cell_type": "markdown",
   "metadata": {},
   "source": [
    "### Instructions\n",
    "\n",
    "This notebook contains automarking metadata, please\n",
    "- __Update your name and UPI above;__\n",
    "- __Do not change the file name;__\n",
    "- __Do not change any cell starting with MANUAL MARKING and AUTOMARKING;__\n",
    "- __Do not change any function signature, and do not change the data type of the function output.__ Moreover,  if it is specifically said that the function should return a specific data structure with specific names of columns like in Q1.iv) then your function should do that. Otherwise, autograding will give you zero points as the assert commands will fail when it will try to access the columns with expected names in the hidden test.\n",
    "- __Before you turn this assignment in, make sure everything runs as expected.__ First, **restart the kernel** (in the menubar, select Kernel$\\rightarrow$Restart) and then **run all cells** (in the menubar, select Cell$\\rightarrow$Run All). A special note for the task Q1.iv) you can test the functions while working on the solution, but for the final submission, please comment out all test calls after you performed **run all cells**.\n",
    "- __Make sure you fill in any place that says \"#YOUR CODE HERE\" or \"YOUR ANSWER HERE\".__\n",
    "- __Comment the inserted code in details, otherwise you will not get the full marks even if the tests pass.__\n",
    "\n",
    "__Note:__ Some code has been given in order to define the input and output.\n",
    "Your code should be implemented between two comments \"# YOUR CODE HERE\" and \"#YOUR CODE FINISHED ABOVE\" ie. your code should replace the line \"raise NotImplementedError\". Please make sure that you do not miss any blocks, except for the example below:\n",
    "\n",
    "```\n",
    "    # YOUR CODE HERE\n",
    "    raise NotImplementedError\n",
    "    # YOUR CODE FINISHED ABOVE\n",
    "```\n",
    "\n",
    "In addition, you must use version 3 or greater of the IPython/Jupyter notebook for automarking to work properly. If you are not using version 3+, it is possible to accidentally delete cells that contain important metadata for automarking. To ensure that you have a recent enough version of the notebook, you can run the cell below to check:"
   ]
  },
  {
   "cell_type": "code",
   "execution_count": 1,
   "metadata": {},
   "outputs": [
    {
     "name": "stdout",
     "output_type": "stream",
     "text": [
      "7\n"
     ]
    }
   ],
   "source": [
    "import IPython\n",
    "your_version = IPython.version_info[0]\n",
    "print(your_version)\n",
    "assert your_version >= 3, \"Your version of IPython is too old, please update it.\""
   ]
  },
  {
   "cell_type": "markdown",
   "metadata": {},
   "source": [
    "This assignment requires __Python 3__ and its package *numpy, pandas* and *matplotlib*, so you need to make sure they are available from your Jupyter notebook."
   ]
  },
  {
   "cell_type": "code",
   "execution_count": 2,
   "metadata": {},
   "outputs": [
    {
     "name": "stdout",
     "output_type": "stream",
     "text": [
      "python 3.7.4\n",
      "numpy 1.17.2\n",
      "pandas 0.25.1\n",
      "matplotlib 3.1.1\n"
     ]
    }
   ],
   "source": [
    "from platform import python_version\n",
    "print(\"python\", python_version())\n",
    "\n",
    "# for arrays\n",
    "import numpy as np\n",
    "print(\"numpy\", np.version.version)\n",
    "\n",
    "# for data frames (i.e tabular data that have row names and column names)\n",
    "# unlike numpy arrays data frames support different data types for each column \n",
    "import pandas \n",
    "print(\"pandas\", pandas.__version__)\n",
    "\n",
    "# for random sequences\n",
    "import random\n",
    "\n",
    "# for measuring execution time\n",
    "import timeit\n",
    "\n",
    "# for plotting\n",
    "import matplotlib \n",
    "print(\"matplotlib\", matplotlib.__version__)"
   ]
  },
  {
   "cell_type": "markdown",
   "metadata": {},
   "source": [
    "## Question 1 (3 points)\n",
    "\n",
    "Implement the Needleman–Wunsch algorithm for global sequence alignment. This implementation should be split into two parts: \n",
    "\n",
    "- creating F matrix\n",
    "- tracing back\n",
    "\n",
    "__Note:__ _numpy_ is imported as _np_. Make sure the nucleotide/amino acid gap symbol is using hyphen \"-\".\n",
    "\n",
    "\n",
    "### To do:\n",
    "- Complete and comment the code for function *get_F_matrix()* (0.7 point)\n",
    "- Complete and comment the code for function  *trace_back()* (1 point)\n",
    "- Complete and comment the code for function *get_optimal_score()* and *get_optimal_score2()* (0.6 point)\n",
    "- Capture the execution time of *get_optimal_score()* for different lengths of the input sequences. <br> Plot and comment the results. For this task you will have to complete and comment two functions. (0.7 point)\n",
    "\n",
    "### i. F matrix\n",
    "Complete the function *get_F_matrix()* below to produce the 2D $F$ matrix using _numpy_. The scoring system is determined by three parameters with default values: match=1.0, mismatch=-1.0, gap=-2.0, where _match/mismatch_ is equivalent to the score matrix and _gap_ is the linear gap penalty.\n",
    "The sequence _A_ is always in the row header, and _B_ in column header.\n"
   ]
  },
  {
   "cell_type": "code",
   "execution_count": 3,
   "metadata": {
    "deletable": false,
    "nbgrader": {
     "cell_type": "code",
     "checksum": "1fe1e0999bccaa40b3eb2816139c0f26",
     "grade": false,
     "grade_id": "Q1_global_F",
     "locked": false,
     "schema_version": 3,
     "solution": true,
     "task": false
    }
   },
   "outputs": [],
   "source": [
    "def get_F_matrix(A, B, match=1.0, mismatch=-1.0, gap=-2.0):\n",
    "    \"\"\"\n",
    "    Returns a global alignment between sequences A and B,\n",
    "    gap is the linear gap penalty.\n",
    "    F is the F matrix, where A is in row, B is in column.\n",
    "    Strings AlignmentA and AlignmentB make up the alignment. \n",
    "    \"\"\"\n",
    "    \n",
    "    # The dimension of the matrix\n",
    "    rown = len(A) + 1\n",
    "    coln = len(B) + 1\n",
    "\n",
    "    # init 2D F matrix, shape=(len(A)+1, len(B)+1)\n",
    "    F = np.zeros(shape=(rown, coln))\n",
    "    \n",
    "    # YOUR CODE HERE\n",
    "\n",
    "    F[0 , :] = [gap * _ for _ in range(coln)]  # init first row of F\n",
    "    F[: , 0] = [gap * _ for _ in range(rown)]  # init first col of F\n",
    "    \n",
    "    for i in range(1, rown):\n",
    "        \n",
    "        for j in range(1, coln):\n",
    "            \n",
    "            # If characters are the same, it's a match, otherwise, mismatch\n",
    "            case1 = F[i-1,j-1] + match if (A[i-1] == B[j-1]) else F[i-1, j-1] + mismatch\n",
    "            \n",
    "            case2 = F[i, j-1] + gap  # Align with a gap in A seq\n",
    "            \n",
    "            case3 = F[i-1, j] + gap  # Align with a gap in B seq\n",
    "            \n",
    "            # Take the max of the three\n",
    "            F[i, j] = max(case1, case2, case3)\n",
    "    \n",
    "    # YOUR CODE FINISHED ABOVE\n",
    "    \n",
    "    return F\n",
    "\n"
   ]
  },
  {
   "cell_type": "code",
   "execution_count": 4,
   "metadata": {
    "deletable": false,
    "editable": false,
    "nbgrader": {
     "cell_type": "code",
     "checksum": "2ef0d5eb80cb3aafeb8e9e03713b855a",
     "grade": true,
     "grade_id": "Q1_global_F_simple_test",
     "locked": true,
     "points": 2,
     "schema_version": 3,
     "solution": false,
     "task": false
    }
   },
   "outputs": [
    {
     "name": "stdout",
     "output_type": "stream",
     "text": [
      "[[ 0. -1. -2. -3. -4. -5. -6. -7.]\n",
      " [-1.  1.  0. -1. -2. -3. -4. -5.]\n",
      " [-2.  0.  0.  1.  0. -1. -2. -3.]\n",
      " [-3. -1. -1.  0.  2.  1.  0. -1.]\n",
      " [-4. -2. -2. -1.  1.  1.  0. -1.]\n",
      " [-5. -3. -3. -1.  0.  0.  0. -1.]\n",
      " [-6. -4. -2. -2. -1. -1.  1.  0.]\n",
      " [-7. -5. -3. -1. -2. -2.  0.  0.]]\n"
     ]
    }
   ],
   "source": [
    "\"\"\"AUTOMARKING F matrix calculation (simple test)\"\"\"\n",
    "x = \"GATTACA\"\n",
    "y = \"GCATGCU\"\n",
    "mat = get_F_matrix(x,y,gap=-1)\n",
    "print(mat)\n",
    "\n",
    "assert np.array_equal(mat, \n",
    "                      np.reshape((0, -1, -2, -3, -4, -5, -6, -7,\n",
    "                                  -1,  1,  0, -1, -2, -3, -4, -5,\n",
    "                                  -2,  0,  0,  1,  0, -1, -2, -3,\n",
    "                                  -3, -1, -1,  0,  2,  1,  0, -1,\n",
    "                                  -4, -2, -2, -1,  1,  1,  0, -1,\n",
    "                                  -5, -3, -3, -1,  0,  0,  0, -1,\n",
    "                                  -6, -4, -2, -2, -1, -1,  1,  0,\n",
    "                                  -7, -5, -3, -1, -2, -2,  0,  0), (8, 8)) )"
   ]
  },
  {
   "cell_type": "code",
   "execution_count": 5,
   "metadata": {
    "deletable": false,
    "editable": false,
    "nbgrader": {
     "cell_type": "code",
     "checksum": "62b775cc9e3ccc18a08b934422a1b273",
     "grade": true,
     "grade_id": "Q1_global_F_hidden_test",
     "locked": true,
     "points": 3,
     "schema_version": 3,
     "solution": false,
     "task": false
    }
   },
   "outputs": [
    {
     "data": {
      "text/plain": [
       "'AUTOMARKING F matrix calculation (hidden test)'"
      ]
     },
     "execution_count": 5,
     "metadata": {},
     "output_type": "execute_result"
    }
   ],
   "source": [
    "\"\"\"AUTOMARKING F matrix calculation (hidden test)\"\"\""
   ]
  },
  {
   "cell_type": "markdown",
   "metadata": {
    "deletable": false,
    "editable": false,
    "nbgrader": {
     "cell_type": "markdown",
     "checksum": "cdbc632e8bbcee9fdcb2684704a81f13",
     "grade": false,
     "grade_id": "Q1_global_F_comments",
     "locked": true,
     "points": 2,
     "schema_version": 3,
     "solution": false,
     "task": true
    }
   },
   "source": [
    "MANUAL MARKING the coding style of the get_F_matrix() function."
   ]
  },
  {
   "cell_type": "markdown",
   "metadata": {},
   "source": [
    "### ii. Tracing back\n",
    "\n",
    "Complete the function *trace_back()* to form the alignment given a scoring matrix $F$ created by *get_F_matrix()*, and other required parameters. \n",
    "\n",
    "If two or more scores are the same, select the high road during traceback.\n",
    "For example, if there is the multiple choice to move either vertical or diagonal, then the high road approach will take the vertical move. If either diagonal or horizontal, then take diagonal. "
   ]
  },
  {
   "cell_type": "code",
   "execution_count": 6,
   "metadata": {
    "deletable": false,
    "nbgrader": {
     "cell_type": "code",
     "checksum": "3d84b11223aa6da38045550d7315dadf",
     "grade": false,
     "grade_id": "Q1_global_traceback",
     "locked": false,
     "schema_version": 3,
     "solution": true,
     "task": false
    }
   },
   "outputs": [
    {
     "name": "stdout",
     "output_type": "stream",
     "text": [
      "[[ 0. -1. -2. -3. -4.]\n",
      " [-1.  1.  0. -1. -2.]\n",
      " [-2.  0.  0.  1.  0.]\n",
      " [-3. -1. -1.  1.  0.]\n",
      " [-4. -2. -2.  0.  0.]]\n",
      "y:  ATGT \n",
      "x:  AGGC\n"
     ]
    }
   ],
   "source": [
    "def trace_back(F, A, B, match=1.0, mismatch=-1.0, gap=-2.0):\n",
    "    \"\"\"\n",
    "    Returns a global alignment between two sequences A and B.\n",
    "    gap is the linear gap penalty\n",
    "    F is the F matrix, where A is in row, B is in column.\n",
    "    Strings AlignmentA and AlignmentB make up the alignment. \n",
    "    \"\"\"\n",
    "    # i indexing row, j indexing col in F\n",
    "    i, j = len(A), len(B)\n",
    "    if i == 0 or j == 0 or i >= np.shape(F)[0] or j >= np.shape(F)[1]:\n",
    "        raise ValueError('Invalid position [%s, %s] !' % (i, j))\n",
    "\n",
    "    # aligned sequence A\n",
    "    AlignmentA = \"\"\n",
    "    # aligned sequence B\n",
    "    AlignmentB = \"\"\n",
    "    \n",
    "    # YOUR CODE HERE\n",
    "    \n",
    "    # While there still sequences left:\n",
    "    while i > 0 or j > 0:\n",
    "\n",
    "        # If move vertically is optimal, insert gap in B sequence.\n",
    "        if F[i, j] == F[i - 1, j] + gap:\n",
    "            AlignmentA = A[i - 1] + AlignmentA\n",
    "            AlignmentB = '-' + AlignmentB\n",
    "            i -= 1  # Decrement i\n",
    "\n",
    "        # If move diagonally is optimal, insert one char in both sequences.\n",
    "        elif F[i, j] == F[i - 1, j - 1] + (match if (A[i - 1] == B[j - 1]) else mismatch):\n",
    "            AlignmentA = A[i - 1] + AlignmentA\n",
    "            AlignmentB = B[j - 1] + AlignmentB\n",
    "            i -= 1  # Decrement both i and j\n",
    "            j -= 1\n",
    "        \n",
    "        # The only case left, if move horizontally is optimal, insert gap in A sequence.\n",
    "        else:\n",
    "            AlignmentA = '-' + AlignmentA\n",
    "            AlignmentB = B[j - 1] + AlignmentB\n",
    "            j -= 1  # Decrement j\n",
    "    \n",
    "    # YOUR CODE FINISHED ABOVE\n",
    "    \n",
    "    # returns two strings\n",
    "    return AlignmentA, AlignmentB\n",
    "x = \"AGGC\"\n",
    "y = \"ATGT\"\n",
    "mat = get_F_matrix(x,y,match=1,mismatch=-1,gap=-1)\n",
    "print(mat)\n",
    "alignment = trace_back(mat, x, y,match=1,mismatch=-1, gap=-1)\n",
    "print(\"y: \", alignment[1], \"\\nx: \", alignment[0])"
   ]
  },
  {
   "cell_type": "code",
   "execution_count": 7,
   "metadata": {
    "deletable": false,
    "editable": false,
    "nbgrader": {
     "cell_type": "code",
     "checksum": "1f87ff977b4eac9a61c0c14c7416bbd2",
     "grade": true,
     "grade_id": "Q1_global_traceback_simple_test",
     "locked": true,
     "points": 2,
     "schema_version": 3,
     "solution": false,
     "task": false
    }
   },
   "outputs": [
    {
     "name": "stdout",
     "output_type": "stream",
     "text": [
      "y:  GCATG-CU \n",
      "x:  G-ATTACA\n"
     ]
    }
   ],
   "source": [
    "\"\"\"AUTOMARKING global sequence alignment (simple test) \"\"\"\n",
    "x = \"GATTACA\"\n",
    "y = \"GCATGCU\"\n",
    "mat = get_F_matrix(x,y,gap=-1)\n",
    "alignment = trace_back(mat, x, y, gap=-1)\n",
    "print(\"y: \", alignment[1], \"\\nx: \", alignment[0])\n",
    "\n",
    "assert alignment[1] == \"GCATG-CU\"\n",
    "assert alignment[0] == \"G-ATTACA\""
   ]
  },
  {
   "cell_type": "code",
   "execution_count": 8,
   "metadata": {
    "deletable": false,
    "editable": false,
    "nbgrader": {
     "cell_type": "code",
     "checksum": "895bd4560998f84430656139b4edbf21",
     "grade": true,
     "grade_id": "Q1_global_traceback_hidden_test_1",
     "locked": true,
     "points": 3,
     "schema_version": 3,
     "solution": false,
     "task": false
    }
   },
   "outputs": [
    {
     "data": {
      "text/plain": [
       "'AUTOMARKING global sequence alignment (hidden test 1) '"
      ]
     },
     "execution_count": 8,
     "metadata": {},
     "output_type": "execute_result"
    }
   ],
   "source": [
    "\"\"\"AUTOMARKING global sequence alignment (hidden test 1) \"\"\""
   ]
  },
  {
   "cell_type": "code",
   "execution_count": 9,
   "metadata": {
    "deletable": false,
    "editable": false,
    "nbgrader": {
     "cell_type": "code",
     "checksum": "90da7f49853f5bf36e2fcc3ddeb46a2b",
     "grade": true,
     "grade_id": "Q1_global_traceback_hidden_test_2",
     "locked": true,
     "points": 3,
     "schema_version": 3,
     "solution": false,
     "task": false
    }
   },
   "outputs": [
    {
     "data": {
      "text/plain": [
       "'AUTOMARKING global sequence alignment (hidden test 2)'"
      ]
     },
     "execution_count": 9,
     "metadata": {},
     "output_type": "execute_result"
    }
   ],
   "source": [
    "\"\"\"AUTOMARKING global sequence alignment (hidden test 2)\"\"\""
   ]
  },
  {
   "cell_type": "markdown",
   "metadata": {
    "deletable": false,
    "editable": false,
    "nbgrader": {
     "cell_type": "markdown",
     "checksum": "31663a07c4f83a7a52a47bdb392c59a6",
     "grade": false,
     "grade_id": "Q1_global_traceback_comments",
     "locked": true,
     "points": 2,
     "schema_version": 3,
     "solution": false,
     "task": true
    }
   },
   "source": [
    "MANUAL MARKING the coding style of the trace_back() function."
   ]
  },
  {
   "cell_type": "markdown",
   "metadata": {},
   "source": [
    "### iii. Calculating optimal score \n",
    "Complete the function *get_optimal_score()*,  a wrapper of the *get_F_matrix()* to return only the score of the optimal global alignment.\n",
    "\n",
    "Complete the function *get_optimal_score2()*, that will calculate the score of the optimal global alignment using less memory space than the *get_optimal_score()*.\n",
    "Comment the memory usage of both functions, i.e. memory storage as function of the length of input sequences."
   ]
  },
  {
   "cell_type": "code",
   "execution_count": 10,
   "metadata": {
    "deletable": false,
    "nbgrader": {
     "cell_type": "code",
     "checksum": "1d1dc2cf3c18ae2b84e54194e9b199b1",
     "grade": false,
     "grade_id": "Q1_global_opt_score",
     "locked": false,
     "schema_version": 3,
     "solution": true,
     "task": false
    }
   },
   "outputs": [],
   "source": [
    "def get_optimal_score(A, B, match=1.0, mismatch=-1.0, gap=-2.0):\n",
    "    \"\"\"\n",
    "    Calculates and returns the score of the optimal global alignment of sequences A and B.\n",
    "    gap is the linear gap penalty.\n",
    "    \"\"\"\n",
    "    \n",
    "    # YOUR CODE HERE\n",
    "    \n",
    "    # By definition, the bottom right element of the F matrix \n",
    "    # is the optimal score of A[:] and B[:]\n",
    "    F = get_F_matrix(A, B, match, mismatch, gap)\n",
    "    score = F[-1, -1]\n",
    "    \n",
    "    # YOUR CODE FINISHED ABOVE\n",
    "    \n",
    "    return score\n",
    "\n",
    "def get_optimal_score2(A, B, match=1.0, mismatch=-1.0, gap=-2.0):\n",
    "    \"\"\"\n",
    "    Calculates and returns the score of the optimal global alignment of sequences A and B.\n",
    "    Uses memory efficient score calculation. \n",
    "    gap is the linear gap penalty.\n",
    "    \"\"\"\n",
    "\n",
    "    # YOUR CODE HERE\n",
    "    \n",
    "    # Dimension of the matrix\n",
    "    rown = len(A) + 1\n",
    "    coln = len(B) + 1\n",
    "    \n",
    "    # Init F to be a 2 by coln matrix, and i will only keep 2 rows at all time to save memory\n",
    "    F = np.zeros(shape=(2, coln))\n",
    "    F[0 , :] = [gap * _ for _ in range(coln)]  # init first row of F\n",
    "    F[1 , 0] = gap  # The first col of second row is just the gap value\n",
    "    \n",
    "    c = 1  # A counter for the F matrix \n",
    "    while c < rown:\n",
    "        \n",
    "        F[1,0] = c * gap  # First col of the second row is always a linear gap value\n",
    "        \n",
    "        for j in range(1, coln):\n",
    "        \n",
    "            # If characters are the same, it's a match, otherwise, mismatch\n",
    "            case1 = F[0,j-1] + match if (A[c-1] == B[j-1]) else F[0, j-1] + mismatch\n",
    "            \n",
    "            case2 = F[1, j-1] + gap  # Align with a gap in A seq\n",
    "            \n",
    "            case3 = F[0, j] + gap  # Align with a gap in B seq\n",
    "            \n",
    "            # Set the current score to the max of three\n",
    "            score = max(case1,case2, case3)\n",
    "            F[1,j] = score\n",
    "            \n",
    "        # Old second row become the new first row\n",
    "        F[0,:] = F[1,:]\n",
    "        # Init new second row (from the second element) to be zero, the first will be set to gap value\n",
    "        F[1,1:] = [0] * (coln - 1)\n",
    "\n",
    "        c += 1  # Increment counter\n",
    "\n",
    "   \n",
    "    score = F[0, -1]  # The optimal score is the first row, last col of the final iteration of F matrix.\n",
    "    \n",
    "    # YOUR CODE FINISHED ABOVE\n",
    "                \n",
    "    return score"
   ]
  },
  {
   "cell_type": "code",
   "execution_count": 11,
   "metadata": {
    "deletable": false,
    "editable": false,
    "nbgrader": {
     "cell_type": "code",
     "checksum": "f2a8e5224d5ea512fa45664882ec1104",
     "grade": true,
     "grade_id": "Q1_global_opt_score_simple_test",
     "locked": true,
     "points": 2,
     "schema_version": 3,
     "solution": false,
     "task": false
    }
   },
   "outputs": [],
   "source": [
    "\"\"\"AUTOMARKING optimal score calculation (simple test)\"\"\"\n",
    "x = \"GATTACA\"\n",
    "y = \"GCATGCU\"\n",
    "\n",
    "score_1 = get_optimal_score(x, y, gap=-1)\n",
    "score_2 = get_optimal_score2(x, y, gap=-1)\n",
    "\n",
    "assert score_1 == score_2\n",
    "assert score_1 == 0.0\n",
    "assert score_2 == 0.0"
   ]
  },
  {
   "cell_type": "code",
   "execution_count": 12,
   "metadata": {
    "deletable": false,
    "editable": false,
    "nbgrader": {
     "cell_type": "code",
     "checksum": "6b104be0ddf44e1e10e5f7480343b9ae",
     "grade": true,
     "grade_id": "Q1_global_opt_score_hidden_test",
     "locked": true,
     "points": 2,
     "schema_version": 3,
     "solution": false,
     "task": false
    }
   },
   "outputs": [
    {
     "data": {
      "text/plain": [
       "'AUTOMARKING optimal score calculation (hidden test)'"
      ]
     },
     "execution_count": 12,
     "metadata": {},
     "output_type": "execute_result"
    }
   ],
   "source": [
    "\"\"\"AUTOMARKING optimal score calculation (hidden test)\"\"\"\n"
   ]
  },
  {
   "cell_type": "markdown",
   "metadata": {
    "deletable": false,
    "editable": false,
    "nbgrader": {
     "cell_type": "markdown",
     "checksum": "c638723834428124674f7a18c976f8cd",
     "grade": false,
     "grade_id": "Q1_global_opt_score_comments",
     "locked": true,
     "points": 2,
     "schema_version": 3,
     "solution": false,
     "task": true
    }
   },
   "source": [
    "MANUAL MARKING the coding style of the get_optimal_score() and get_optimal_score2() functions"
   ]
  },
  {
   "cell_type": "markdown",
   "metadata": {},
   "source": [
    "### iv. Empirically validate the time performance of *get_optimal_score()*\n",
    "\n",
    "What is the time complexity of the *get_optimal_score()* function? <br>\n",
    "Explain it briefly and show it empirically by running experiments with different pair of sequences of given length and capturing the execution time of the function. For this task is sufficient to align randomly generate sequences (DNA or protein) of the same length N. Complete function *random_sequence()* to generate random sequences of a given length.\n",
    "\n",
    "Let the length of the sequence N be in the range 10 (parameter *min_N*) to 511 (parameter *max_N*) with step of 100 (parameter *step_N*). For each N, sample 5 pairs (parameter *pairs_N*) of randomly generated sequences of length N, and time the execution of the *get_optimal_score()* for each pair. Plot the results with the execution time (in seconds) on Y axis and the length of the input sequences on X axis. Label the plot properly, and comment the plot. This can take quite some time for large value of N, so for testing purposes use smaller ranges, i.e. the default parameters in the function signature bellow. Only when your function is free of errors run it for the requested setting.\n",
    "\n",
    "__Hint:__\n",
    "Use the functions *timeit.timeit(..., number=100)* or *timeit.repeat(..., number=100, repeat=5)* for recording the execution time, and *random.choice()* for random sampling. Please read the documentation of the corresponding Python modules to properly use them. Note, only basic plotting with *matplotlib* and tabular data manipulation with *pandas* is needed. "
   ]
  },
  {
   "cell_type": "code",
   "execution_count": 13,
   "metadata": {
    "deletable": false,
    "nbgrader": {
     "cell_type": "code",
     "checksum": "3079503a5b02f88d5067696d6eab00be",
     "grade": false,
     "grade_id": "Q1_global_time",
     "locked": false,
     "schema_version": 3,
     "solution": true,
     "task": false
    }
   },
   "outputs": [],
   "source": [
    "import matplotlib.pyplot as plt\n",
    "from functools import partial\n",
    "%matplotlib inline\n",
    "\n",
    "def random_sequence(alphabet='CGTA', N=5):\n",
    "    \"\"\"\n",
    "    Generates a random sequence of length N using letters from alphabet, the set of possible letters.  \n",
    "    Each letter has equal probability to be chosen at any position of the sequences\n",
    "    \"\"\"\n",
    "\n",
    "    # YOUR CODE HERE\n",
    "    \n",
    "    sequence = \"\"  # init sequence\n",
    "    \n",
    "    while len(sequence) < N:\n",
    "        \n",
    "        # Generate random num in the range of (0, len(alphabet) - 1) as index, \n",
    "        # append the corresponding character to the seq.\n",
    "        sequence += alphabet[random.randint(0,len(alphabet) - 1)]  \n",
    "\n",
    "    # YOUR CODE FINISHED ABOVE\n",
    "    \n",
    "    # returns the random sequence as a string\n",
    "    return sequence\n",
    "\n",
    "def time_and_plot(alphabet='CGTA', pairs_N =5, min_N = 5, max_N = 21, step_N = 5,\n",
    "                  match=1.0, mismatch=-1.0, gap=-2.0):\n",
    "    \"\"\"\n",
    "    Empirical analysis of time performance of get_optimal_score()\n",
    "    Calculates and save the times in a pandas.DataFrame\n",
    "    Calls functions random_sequences() and get_optimal_score()\n",
    "    \"\"\"\n",
    "    \n",
    "    # We set the seed of the random number generator for output reproducibility.\n",
    "    random.seed(12345)\n",
    "    \n",
    "    # YOUR CODE HERE\n",
    "    \n",
    "    N_list = [_ for _ in range(min_N, max_N + 1, step_N)]  # Init list of length N.\n",
    "\n",
    "    seq_list = []  # Init random sequence list\n",
    "    \n",
    "    # For each N:\n",
    "    \n",
    "    for n in N_list:\n",
    "        \n",
    "        # pairs_N pairs of random sequence.\n",
    "        i = 0\n",
    "        while i < pairs_N:\n",
    "            \n",
    "            # Add one pair(tuple) of random sequence of length n to the list.\n",
    "            seq_list.append(\n",
    "                (random_sequence(N = n),\n",
    "                 random_sequence(N = n))\n",
    "            )\n",
    "            i += 1\n",
    "    \n",
    "    #  Convert to np.array for easy processing\n",
    "    array_list = np.array(seq_list)\n",
    "    \n",
    "    \n",
    "    # Above is to get the random sequence\n",
    "    ########################################################################\n",
    "    # Below is to process the sequence and get the time data\n",
    "    \n",
    "    \n",
    "    time_list = []  # Init time list\n",
    "    \n",
    "    #  For each length \n",
    "    for i in range(len(N_list)):\n",
    "        \n",
    "        j = 0  #  Counter for the sequence of the same length\n",
    "        total_time = 0  #  This is the total time for the sequence of the same length\n",
    "        \n",
    "        \n",
    "        #  Total of pairs_N pair of sequences of the same length\n",
    "        while j < pairs_N:\n",
    "\n",
    "            curr = array_list[i * pairs_N + j]  # Current pair of sequence\n",
    "            \n",
    "            #  Add the processing time of the current pair of sequences to the total for the sequence of this length\n",
    "            total_time += timeit.timeit(partial(get_optimal_score,curr[0],curr[1],match,mismatch,gap), number = 100)\n",
    "            \n",
    "            j += 1  # Increment counter\n",
    "\n",
    "        \n",
    "        average_time = total_time / pairs_N  #  Get the average time of sequence of this length\n",
    "\n",
    "        time_list.append(average_time)  # Add the time to the time list\n",
    "\n",
    "    \n",
    "    #  Create a pandas.DataFrame using the length of sequences (N_list) and time (time_list)\n",
    "    time_df = pandas.DataFrame({\"N\": N_list,   # List of length of sequences\n",
    "                                \"Time\": time_list})  # List of processing time of sequences of same length \n",
    "    \n",
    "    \n",
    "    \n",
    "    ########################################################################\n",
    "    # Below is to create plot using matplotlib.pyplot\n",
    "    \n",
    "    fig1, ax1 = plt.subplots()  # Init plot\n",
    "\n",
    "    ax1.plot(time_df[\"N\"], time_df[\"Time\"], label=\"k\")  # Graph\n",
    "\n",
    "    ax1.set_xlabel(\"Length of input sequences\")  # X Axie label\n",
    "    ax1.set_ylabel(\"Execution time (seconds)\")  # Y Axie label\n",
    "    \n",
    "    ax1.set_title(\"Time performance of get_optimal_score()\")  # Title\n",
    "\n",
    "    # YOUR CODE FINISHED ABOVE\n",
    "    \n",
    "    # data frame with two columns N, Time\n",
    "    # Time is the average execution time for the optimal score of pair_N pairs of sequences of length N\n",
    "    return time_df"
   ]
  },
  {
   "cell_type": "code",
   "execution_count": 14,
   "metadata": {},
   "outputs": [
    {
     "data": {
      "text/plain": [
       "' IMPORTANT: Uncomment the commands for testing purposes. Before you submit the final version version of this notebook\\n    PLEASE COMMENT OUT the commands in this cell. We will evaluate the functions in the hidden test.'"
      ]
     },
     "execution_count": 14,
     "metadata": {},
     "output_type": "execute_result"
    }
   ],
   "source": [
    "\"\"\" Test the functions\"\"\"\n",
    "\"\"\" IMPORTANT: Uncomment the commands for testing purposes. Before you submit the final version version of this notebook\n",
    "    PLEASE COMMENT OUT the commands in this cell. We will evaluate the functions in the hidden test.\"\"\"\n",
    "# time_df = time_and_plot(pairs_N = 5, min_N = 5, max_N = 21, step_N = 5)           \n",
    "# time_df = time_and_plot(pairs_N = 5, min_N = 10, max_N = 511, step_N = 100)\n",
    "# print(time_df)"
   ]
  },
  {
   "cell_type": "markdown",
   "metadata": {},
   "source": [
    "In the cell below, please answer the question about the time complexity of the *get_optimal_score()* function and explain the results obtained from executing time_and_plot(pairs_N =5, min_N = 10, max_N = 511, step_N = 100). You should hard-code the results from this function call (the data frame returned) in a table, so they are not overridden, when we autograde the code.\n",
    "\n",
    "Table template:\n",
    "\n",
    "| Row | Length | Average Time (sec) |\n",
    "| :-- | :-- | :-- |\n",
    "| 1 | N1 | T1 |\n",
    "| 2 | N2 | T2 |\n",
    "...\n"
   ]
  },
  {
   "cell_type": "markdown",
   "metadata": {
    "deletable": false,
    "nbgrader": {
     "cell_type": "markdown",
     "checksum": "9a4f951f06857dafa513e2904713a10b",
     "grade": true,
     "grade_id": "Q1_global_time_answer",
     "locked": false,
     "points": 2,
     "schema_version": 3,
     "solution": true,
     "task": false
    }
   },
   "source": [
    "### Discussion of Results for Q1. iii) ###\n",
    "For *get_optimal_score()*, we will keep the entire F matrix in memory at all time, thus it will take up much more memory space as the input sequences get longer. As for *get_optimal_score2()*, we only keep a record of 2 rows of the entire matrix because when we fill in the entry for one row, only the value in the upper row and the current row is relevant to our calculation. Therefore, it will only take $\\frac{2}{rown}$ of the memory taken by *get_optimal_score()* in terms of the length of input sequences.\n",
    "\n",
    "### Discussion of Results for Q1. iv) ###\n",
    "| Row | Length | Average Time (sec) |\n",
    "| :-- | :-- | :-- |\n",
    "| 1 |  10  |  0.024351 |\n",
    "| 2 | 110 |  2.243196 |\n",
    "| 3 | 210 |  8.227377 |\n",
    "| 4 | 310 | 17.892721 |\n",
    "| 5 | 410 | 31.405304 |\n",
    "| 6 | 510 | 50.222010 |\n",
    "\n",
    "We can see from the graph and the corresponding table of the result from executing time_and_plot(pairs_N =5, min_N = 10, max_N = 511, step_N = 100) that there's a positive correlation between the two factor, as the length of the sequence increases by 100 each time, the average time to process the sequences increases, but not linearly proportional. "
   ]
  },
  {
   "cell_type": "code",
   "execution_count": 15,
   "metadata": {
    "deletable": false,
    "editable": false,
    "nbgrader": {
     "cell_type": "code",
     "checksum": "99e9fd201a2bb94271694a99d2c30e4d",
     "grade": true,
     "grade_id": "Q1_global_time_hidden_test",
     "locked": true,
     "points": 3,
     "schema_version": 3,
     "solution": false,
     "task": false
    }
   },
   "outputs": [
    {
     "data": {
      "text/plain": [
       "'AUTOMARKING time complexity (hidden test)'"
      ]
     },
     "execution_count": 15,
     "metadata": {},
     "output_type": "execute_result"
    }
   ],
   "source": [
    "\"\"\"AUTOMARKING time complexity (hidden test)\"\"\""
   ]
  },
  {
   "cell_type": "markdown",
   "metadata": {
    "deletable": false,
    "editable": false,
    "nbgrader": {
     "cell_type": "markdown",
     "checksum": "45b7addec50d4e7eaa5de24234012e14",
     "grade": false,
     "grade_id": "Q1_global_time_comments",
     "locked": true,
     "points": 2,
     "schema_version": 3,
     "solution": false,
     "task": true
    }
   },
   "source": [
    "MANUAL MARKING the coding style of the time_and_plot() and random_sequence() functions"
   ]
  },
  {
   "cell_type": "markdown",
   "metadata": {},
   "source": [
    "## Question 2 (2 points)\n",
    "\n",
    "Implement the Smith–Waterman algorithm for local sequence alignment. \n",
    "\n",
    "### To do:\n",
    "- Complete and comment *local_alignment()* (2 points; 1 point for F matrix calculation and 1 point for the traceback)\n",
    "\n",
    "Complete the function *local_alignment()* to produce a local sequence alignment. A score matrix $S$ is required. Remember to always take the high road during traceback. If there are multiple maximum scores, then always take the maximum score in the lowest and then rightmost position in $F$.\n",
    "\n",
    "Please do not change the code to define score matrix S1 and S2"
   ]
  },
  {
   "cell_type": "code",
   "execution_count": 16,
   "metadata": {
    "deletable": false,
    "editable": false,
    "nbgrader": {
     "cell_type": "code",
     "checksum": "9c970d728a1bb6bfad2aaa279a200117",
     "grade": false,
     "grade_id": "S1_S2_matrices",
     "locked": true,
     "schema_version": 3,
     "solution": false,
     "task": false
    }
   },
   "outputs": [
    {
     "name": "stdout",
     "output_type": "stream",
     "text": [
      "S1 = \n",
      "    A  G  C  T\n",
      "A  1 -1 -1 -1\n",
      "G -1  1 -1 -1\n",
      "C -1 -1  1 -1\n",
      "T -1 -1 -1  1\n",
      "\n",
      "S2 = \n",
      "    A  G  C  T\n",
      "A  2  1 -2 -2\n",
      "G  1  2 -2 -2\n",
      "C -2 -2  2  1\n",
      "T -2 -2  1  2\n"
     ]
    }
   ],
   "source": [
    "# define score matrix S1 and S2\n",
    "\n",
    "nuc = ['A', 'G', 'C', 'T'] # Purines, Pyramidines\n",
    "# match=1, mismatch=-1\n",
    "match_mismatch = np.reshape((1, -1, -1, -1, -1, 1, -1, -1, -1, -1, 1, -1, -1, -1, -1, 1), (4, 4))\n",
    "# score matrix:\n",
    "S1 = pandas.DataFrame(match_mismatch, index=nuc, columns=nuc)\n",
    "print(\"S1 = \\n\", S1)\n",
    "# 2 if a = b, 1 if a b is purine or a b is pyrimidine,\n",
    "# -2 if a is a purine and b is a pyrimidine or vice versa.\n",
    "pur_pyr = np.reshape((2, 1, -2, -2, 1, 2, -2, -2, -2, -2, 2, 1, -2, -2, 1, 2), (4, 4))\n",
    "S2 = pandas.DataFrame(pur_pyr, index=nuc, columns=nuc)\n",
    "print(\"\\nS2 = \\n\", S2)"
   ]
  },
  {
   "cell_type": "code",
   "execution_count": 17,
   "metadata": {
    "deletable": false,
    "nbgrader": {
     "cell_type": "code",
     "checksum": "8a16a1300b6a8f32303ff444bf10d797",
     "grade": false,
     "grade_id": "lQ2_ocal",
     "locked": false,
     "schema_version": 3,
     "solution": true,
     "task": false
    }
   },
   "outputs": [
    {
     "name": "stdout",
     "output_type": "stream",
     "text": [
      "y:  CCGGCCC \n",
      "x:  CC--CCC \n",
      " [[ 0.  0.  0.  0.  0.  0.  0.  0.]\n",
      " [ 0. 10. 10.  8.  6. 10. 10. 10.]\n",
      " [ 0. 10. 20. 18. 16. 16. 20. 20.]\n",
      " [ 0. 10. 20. 18. 16. 26. 26. 30.]\n",
      " [ 0. 10. 20. 18. 16. 26. 36. 36.]\n",
      " [ 0. 10. 20. 18. 16. 26. 36. 46.]] \n",
      "max score = 46.0 \n",
      "max score coordinate = (5, 7)\n"
     ]
    }
   ],
   "source": [
    "def local_alignment(A, B, S, d=-2.0):    \n",
    "    \"\"\"\n",
    "    Returns a local alignment between sequences A and B,\n",
    "    S is the score matrix as pandas.DataFrame, and d is the penalty.\n",
    "    F is the F matrix, where A is in row, B is in column.\n",
    "    max_pos is the coordinate of the highest score max_score in F matrix.\n",
    "    Strings AlignmentA and AlignmentB make up the alignment. \n",
    "    \"\"\"\n",
    "    \n",
    "    # The dimension of the matrix\n",
    "    rown = len(A) + 1\n",
    "    coln = len(B) + 1\n",
    "\n",
    "    # init 2D F matrix, shape=(len(A)+1, len(B)+1)\n",
    "    F = np.zeros(shape=(rown, coln))\n",
    "    \n",
    "    # holds the highest score in F matrix\n",
    "    # initialize to 0 \n",
    "    max_score = 0\n",
    "    # coordinates of the highest score in F matrix as a tuple, \n",
    "    # i.e. (row index, col index)\n",
    "    max_pos = None  \n",
    "\n",
    "    AlignmentA = \"\"\n",
    "    AlignmentB = \"\"\n",
    "    \n",
    "    # YOUR CODE HERE\n",
    "    \n",
    "    ###############################################################################################\n",
    "    ###  Get F matrix\n",
    "    \n",
    "    F[0 , :] = [0 for _ in range(coln)]  # init first row of F to 0\n",
    "    F[: , 0] = [0 for _ in range(rown)]  # init first col of F to 0\n",
    "    \n",
    "    for i in range(1, rown):\n",
    "        \n",
    "        for j in range(1, coln):\n",
    "            \n",
    "            case1 = F[i-1,j-1] + S[A[i-1]][B[j-1]]  # Align using the scoring matrix S\n",
    "            \n",
    "            case2 = F[i, j-1] + d  # Align with a gap in A seq\n",
    "            \n",
    "            case3 = F[i-1, j] + d  # Align with a gap in B seq\n",
    "            \n",
    "            case4 = 0  # No alignment\n",
    "            \n",
    "            score = max(case1, case2, case3, case4)  # Get the max\n",
    "            F[i, j] = score  # Set the entry of the F matrix to the max score\n",
    "            \n",
    "            # If current score is the global max, set max_score and max_pos to it\n",
    "            if (score > max_score):\n",
    "                \n",
    "                max_score = score\n",
    "                max_pos = (i, j)\n",
    "\n",
    "    \n",
    "    ###############################################################################################\n",
    "    ###  Trace Back\n",
    "    \n",
    "    \n",
    "    i, j = max_pos  # Set starting point to the max_pos\n",
    "\n",
    "    # Keep loop until reach score 0:\n",
    "    while F[i][j] != 0:\n",
    "\n",
    "        # If move vertically is optimal, insert gap in B sequence.\n",
    "        if F[i, j] == F[i - 1, j] + d:\n",
    "            AlignmentA = A[i - 1] + AlignmentA\n",
    "            AlignmentB = '-' + AlignmentB\n",
    "            i -= 1  # Decrement i\n",
    "\n",
    "        # If move diagonally is optimal, insert one char in both sequences.\n",
    "        elif F[i, j] == F[i - 1, j - 1] + S[A[i - 1]][B[j - 1]]:\n",
    "            AlignmentA = A[i - 1] + AlignmentA\n",
    "            AlignmentB = B[j - 1] + AlignmentB\n",
    "            i -= 1  # Decrement both i and j\n",
    "            j -= 1\n",
    "        \n",
    "        # The only case left, if move horizontally is optimal, insert gap in A sequence.\n",
    "        else:\n",
    "            AlignmentA = '-' + AlignmentA\n",
    "            AlignmentB = B[j - 1] + AlignmentB\n",
    "            j -= 1  # Decrement j\n",
    "    \n",
    "    # YOUR CODE FINISHED ABOVE\n",
    "                                       \n",
    "    return AlignmentA, AlignmentB, max_score, max_pos, F\n",
    "\n",
    "x = \"CCCCC\"\n",
    "y = \"CCGGCCC\"\n",
    "AlignmentA, AlignmentB, max_score, max_pos, F = local_alignment(x, y, S1*10)\n",
    "print(\"y: \", AlignmentB, \"\\nx: \", AlignmentA, \"\\n\", F, \n",
    "      \"\\nmax score =\", max_score, \"\\nmax score coordinate =\", max_pos)"
   ]
  },
  {
   "cell_type": "code",
   "execution_count": 18,
   "metadata": {
    "deletable": false,
    "editable": false,
    "nbgrader": {
     "cell_type": "code",
     "checksum": "d16528f45d54d4a0ffabd499d8573b3e",
     "grade": true,
     "grade_id": "Q2_local_simple_test",
     "locked": true,
     "points": 4,
     "schema_version": 3,
     "solution": false,
     "task": false
    }
   },
   "outputs": [
    {
     "name": "stdout",
     "output_type": "stream",
     "text": [
      "y:  GTT-AC \n",
      "x:  GTTGAC \n",
      " [[ 0.  0.  0.  0.  0.  0.  0.  0.  0.]\n",
      " [ 0.  0.  3.  1.  0.  0.  0.  3.  3.]\n",
      " [ 0.  0.  3.  1.  0.  0.  0.  3.  6.]\n",
      " [ 0.  3.  1.  6.  4.  2.  0.  1.  4.]\n",
      " [ 0.  3.  1.  4.  9.  7.  5.  3.  2.]\n",
      " [ 0.  1.  6.  4.  7.  6.  4.  8.  6.]\n",
      " [ 0.  0.  4.  3.  5. 10.  8.  6.  5.]\n",
      " [ 0.  0.  2.  1.  3.  8. 13. 11.  9.]\n",
      " [ 0.  3.  1.  5.  4.  6. 11. 10.  8.]\n",
      " [ 0.  1.  0.  3.  2.  7.  9.  8.  7.]] \n",
      "max score = 13.0 \n",
      "max score coordinate = (7, 6)\n"
     ]
    }
   ],
   "source": [
    "\"\"\"AUTOMARKING local sequence alignment (simple test)\"\"\"\n",
    "x = \"GGTTGACTA\"\n",
    "y = \"TGTTACGG\"\n",
    "AlignmentA, AlignmentB, max_score, max_pos, F = local_alignment(x, y, S1*3)\n",
    "print(\"y: \", AlignmentB, \"\\nx: \", AlignmentA, \"\\n\", F, \n",
    "      \"\\nmax score =\", max_score, \"\\nmax score coordinate =\", max_pos)\n",
    "\n",
    "assert AlignmentB == \"GTT-AC\"\n",
    "assert AlignmentA == \"GTTGAC\"\n",
    "assert max_score == 13.0"
   ]
  },
  {
   "cell_type": "code",
   "execution_count": 19,
   "metadata": {
    "deletable": false,
    "editable": false,
    "nbgrader": {
     "cell_type": "code",
     "checksum": "6c352d0a2dd7a887d5cf02d87a5f951b",
     "grade": true,
     "grade_id": "Q2_local_hidden_test_1",
     "locked": true,
     "points": 4,
     "schema_version": 3,
     "solution": false,
     "task": false
    }
   },
   "outputs": [
    {
     "data": {
      "text/plain": [
       "'AUTOMARKING local sequence alignment (hidden test 1)'"
      ]
     },
     "execution_count": 19,
     "metadata": {},
     "output_type": "execute_result"
    }
   ],
   "source": [
    "\"\"\"AUTOMARKING local sequence alignment (hidden test 1)\"\"\""
   ]
  },
  {
   "cell_type": "code",
   "execution_count": 20,
   "metadata": {
    "deletable": false,
    "editable": false,
    "nbgrader": {
     "cell_type": "code",
     "checksum": "1a786fc500d9f5f132ba78c1543d8a57",
     "grade": true,
     "grade_id": "Q2_local_hidden_test_2",
     "locked": true,
     "points": 4,
     "schema_version": 3,
     "solution": false,
     "task": false
    }
   },
   "outputs": [
    {
     "data": {
      "text/plain": [
       "'AUTOMARKING local sequence alignment (hidden test 2)'"
      ]
     },
     "execution_count": 20,
     "metadata": {},
     "output_type": "execute_result"
    }
   ],
   "source": [
    "\"\"\"AUTOMARKING local sequence alignment (hidden test 2)\"\"\""
   ]
  },
  {
   "cell_type": "code",
   "execution_count": 21,
   "metadata": {
    "deletable": false,
    "editable": false,
    "nbgrader": {
     "cell_type": "code",
     "checksum": "50e8f4f92ca4a95dd0f5bead87f13064",
     "grade": true,
     "grade_id": "Q2_local_hidden_test_3",
     "locked": true,
     "points": 4,
     "schema_version": 3,
     "solution": false,
     "task": false
    }
   },
   "outputs": [
    {
     "data": {
      "text/plain": [
       "'AUTOMARKING local sequence alignment (hidden test 3)'"
      ]
     },
     "execution_count": 21,
     "metadata": {},
     "output_type": "execute_result"
    }
   ],
   "source": [
    "\"\"\"AUTOMARKING local sequence alignment (hidden test 3)\"\"\""
   ]
  },
  {
   "cell_type": "markdown",
   "metadata": {
    "deletable": false,
    "editable": false,
    "nbgrader": {
     "cell_type": "markdown",
     "checksum": "b749fc5c541e3c449307c1eb25a2df2b",
     "grade": false,
     "grade_id": "Q2_local_comments",
     "locked": true,
     "points": 4,
     "schema_version": 3,
     "solution": false,
     "task": true
    }
   },
   "source": [
    "MANUAL MARKING the coding style of the local_alignment() function."
   ]
  },
  {
   "cell_type": "markdown",
   "metadata": {},
   "source": [
    "### Question 3 (2.5 points)\n",
    "\n",
    "Implement the overlap algorithm in the function *overlap()* An overlap alignment of two strings $v=v_1...v_n$ and $w = w_1...w_m$ returns the highest scoring global alignment between a $i$-suffix of $v$ ($v_i ..v_n$) and a $j$-prefix of $w$ ($w_1...w_j$), for all possible $i$ and $j$.\n",
    "\n",
    "__Hint__: Modifying the Needleman–Wunsch algorithm. Essentially, you do not need to penalize for the the gaps at the beginning of the alignment and the end of a normal global alignment.  Think how to initialize the $F$ matrix, and where in the $F$ matrix you need to start the traceback. Furthermore, follow the same rule as above: if there are multiple choices with same score in the path, then always take the high road during traceback. Note that the alignment your function returns should include the starting gaps and end gaps. An example of two simple sequences and their alignment is available in the test bellow. \n",
    "\n",
    "\n",
    "### To do:\n",
    "- Complete and comment the code for *readBLOSUM62()* (0.5 points)\n",
    "- Complete and comment the code for *overlap()* (2 points)\n",
    "\n",
    "__Note:__  For the first task, you will use the provided text file with the BLOSUM62 scoring matrix. You are not allowed to use ready functions from *pandas* to read the scoring matrix in one step. Instead you have to use the basic Python function *readline()* to parse the text file line by line and string manipulation to get the numbers. The file has no missing values in the columns/rows."
   ]
  },
  {
   "cell_type": "code",
   "execution_count": 22,
   "metadata": {
    "deletable": false,
    "nbgrader": {
     "cell_type": "code",
     "checksum": "986ce1de08dc8e158db7d13077d8d788",
     "grade": false,
     "grade_id": "Q3_blosum62",
     "locked": false,
     "schema_version": 3,
     "solution": true,
     "task": false
    }
   },
   "outputs": [
    {
     "name": "stdout",
     "output_type": "stream",
     "text": [
      "[4, -1, -2, -2, 0, -1, -1, 0, -2, -1, -1, -1, -1, -2, -1, 1, 0, -3, -2, 0, -2, -1, 0]\n"
     ]
    }
   ],
   "source": [
    "def readBLOSUM62():\n",
    "    \"\"\"\n",
    "    Returns the BLOSUM62 scoring matrix in BLOSUM_df, a pandas.DataFrame \n",
    "    The scoring matrix is stored in a text file, provided to you as \"blosum62.txt\". \n",
    "    Comments in the file are marked with # sign, and these should be excluded.\n",
    "    \"\"\"\n",
    "    # The fourth line in the file has 23 elements represnting 20 canonical and 3 ambiguous amino acids\n",
    "    # So the scoring matrix is 23 x 23 \n",
    "    amino_acids = [\"A\",\"R\",\"N\",\"D\",\"C\",\"Q\",\"E\",\"G\",\"H\",\"I\",\"L\",\"K\",\"M\",\"F\",\"P\",\"S\",\"T\",\"W\",\"Y\",\"V\",\"B\",\"Z\",\"X\"]\n",
    "    col_names = amino_acids\n",
    "    row_names = amino_acids\n",
    "    # it is available with the Jupyter notebook  \n",
    "    length = len(amino_acids)\n",
    "    text_file = open(\"blosum62.txt\", \"r\")\n",
    "    \n",
    "    # YOUR CODE HERE\n",
    "    \n",
    "    # Skip the first few lines starting with '#'\n",
    "    line = text_file.readline()\n",
    "    while line[0] == '#':\n",
    "        line = text_file.readline()\n",
    "    \n",
    "    matrix = []  # Init matrix m\n",
    "    \n",
    "    # Keep looping until reaching EOF\n",
    "    while line != '':\n",
    "\n",
    "        line = text_file.readline().rstrip().split(' ')  # Trim '/n' and split into list by whitespace\n",
    "\n",
    "        if line[0] == '': break  # Break if EOF\n",
    "\n",
    "        processed_line = [int(x) for x in line[1:]]  # Leave the first char and convert the rest to integer\n",
    "        matrix.append(processed_line)  # Add the processed line to the matrix\n",
    "\n",
    "    BLOSUM_df = pandas.DataFrame(matrix, columns=amino_acids, index=amino_acids)  # Create DataFrame using col and row name from amino_acid\n",
    "    \n",
    "    text_file.close()  # Close file\n",
    "    \n",
    "    # YOUR CODE FINISHED ABOVE\n",
    "\n",
    "    return BLOSUM_df\n",
    "\n",
    "BLOSUM62 = readBLOSUM62()\n",
    "print(list(BLOSUM62['A']))"
   ]
  },
  {
   "cell_type": "code",
   "execution_count": 23,
   "metadata": {
    "deletable": false,
    "editable": false,
    "nbgrader": {
     "cell_type": "code",
     "checksum": "aee24c5b0d348dd2bce5cdf41d7b1974",
     "grade": true,
     "grade_id": "Q3_blosum62_hidden_test",
     "locked": true,
     "points": 3,
     "schema_version": 3,
     "solution": false,
     "task": false
    }
   },
   "outputs": [
    {
     "data": {
      "text/plain": [
       "'AUTOMARKING readBLOSUM62 (hidden test)'"
      ]
     },
     "execution_count": 23,
     "metadata": {},
     "output_type": "execute_result"
    }
   ],
   "source": [
    "\"\"\"AUTOMARKING readBLOSUM62 (hidden test)\"\"\""
   ]
  },
  {
   "cell_type": "markdown",
   "metadata": {
    "deletable": false,
    "editable": false,
    "nbgrader": {
     "cell_type": "markdown",
     "checksum": "3e9239e66c8f578908444e650a0787f1",
     "grade": false,
     "grade_id": "Q3_blosum62_comments",
     "locked": true,
     "points": 2,
     "schema_version": 3,
     "solution": false,
     "task": true
    }
   },
   "source": [
    "MANUAL MARKING the commenting and coding style of the readBLOSUM62() function"
   ]
  },
  {
   "cell_type": "code",
   "execution_count": 24,
   "metadata": {
    "deletable": false,
    "nbgrader": {
     "cell_type": "code",
     "checksum": "46827193f164ae77720963d8e9ca1ee9",
     "grade": false,
     "grade_id": "Q3_overlap",
     "locked": false,
     "schema_version": 3,
     "solution": true,
     "task": false
    }
   },
   "outputs": [
    {
     "ename": "TypeError",
     "evalue": "cannot unpack non-iterable NoneType object",
     "output_type": "error",
     "traceback": [
      "\u001b[0;31m---------------------------------------------------------------------------\u001b[0m",
      "\u001b[0;31mTypeError\u001b[0m                                 Traceback (most recent call last)",
      "\u001b[0;32m<ipython-input-24-a1c026e35779>\u001b[0m in \u001b[0;36m<module>\u001b[0;34m\u001b[0m\n\u001b[1;32m    117\u001b[0m \u001b[0my\u001b[0m \u001b[0;34m=\u001b[0m \u001b[0;34m'GGGGGGG'\u001b[0m\u001b[0;34m\u001b[0m\u001b[0;34m\u001b[0m\u001b[0m\n\u001b[1;32m    118\u001b[0m \u001b[0;34m\u001b[0m\u001b[0m\n\u001b[0;32m--> 119\u001b[0;31m \u001b[0mAlignmentA\u001b[0m\u001b[0;34m,\u001b[0m\u001b[0mAlignmentB\u001b[0m\u001b[0;34m,\u001b[0m\u001b[0mscore\u001b[0m\u001b[0;34m,\u001b[0m\u001b[0mF\u001b[0m \u001b[0;34m=\u001b[0m \u001b[0moverlap\u001b[0m\u001b[0;34m(\u001b[0m\u001b[0mx\u001b[0m\u001b[0;34m,\u001b[0m \u001b[0my\u001b[0m\u001b[0;34m,\u001b[0m \u001b[0mBLOSUM62\u001b[0m\u001b[0;34m,\u001b[0m \u001b[0;34m-\u001b[0m\u001b[0;36m8\u001b[0m\u001b[0;34m)\u001b[0m\u001b[0;34m\u001b[0m\u001b[0;34m\u001b[0m\u001b[0m\n\u001b[0m\u001b[1;32m    120\u001b[0m \u001b[0mprint\u001b[0m\u001b[0;34m(\u001b[0m\u001b[0mAlignmentB\u001b[0m\u001b[0;34m)\u001b[0m\u001b[0;34m\u001b[0m\u001b[0;34m\u001b[0m\u001b[0m\n\u001b[1;32m    121\u001b[0m \u001b[0mprint\u001b[0m\u001b[0;34m(\u001b[0m\u001b[0mAlignmentA\u001b[0m\u001b[0;34m)\u001b[0m\u001b[0;34m\u001b[0m\u001b[0;34m\u001b[0m\u001b[0m\n",
      "\u001b[0;32m<ipython-input-24-a1c026e35779>\u001b[0m in \u001b[0;36moverlap\u001b[0;34m(A, B, S, d)\u001b[0m\n\u001b[1;32m     59\u001b[0m     \u001b[0;31m###  Trace Back\u001b[0m\u001b[0;34m\u001b[0m\u001b[0;34m\u001b[0m\u001b[0;34m\u001b[0m\u001b[0m\n\u001b[1;32m     60\u001b[0m \u001b[0;34m\u001b[0m\u001b[0m\n\u001b[0;32m---> 61\u001b[0;31m     \u001b[0mi\u001b[0m\u001b[0;34m,\u001b[0m \u001b[0mj\u001b[0m \u001b[0;34m=\u001b[0m \u001b[0mmax_pos\u001b[0m  \u001b[0;31m# Set starting point to the max_pos\u001b[0m\u001b[0;34m\u001b[0m\u001b[0;34m\u001b[0m\u001b[0m\n\u001b[0m\u001b[1;32m     62\u001b[0m \u001b[0;34m\u001b[0m\u001b[0m\n\u001b[1;32m     63\u001b[0m     \u001b[0;31m# Keep loop until reach score 0:\u001b[0m\u001b[0;34m\u001b[0m\u001b[0;34m\u001b[0m\u001b[0;34m\u001b[0m\u001b[0m\n",
      "\u001b[0;31mTypeError\u001b[0m: cannot unpack non-iterable NoneType object"
     ]
    }
   ],
   "source": [
    "def overlap(A,B,S,d=-2.0):\n",
    "    \n",
    "    \"\"\"\n",
    "    Returns an overlap alignment between sequences A and B,\n",
    "    S is the score matrix, and d is the penalty.\n",
    "    F is the F matrix, where A is in row, B is in column.\n",
    "    String AlignmentA and AlignmentB are the alignment. \n",
    "    score is the optimal alignment score\n",
    "    \"\"\"\n",
    "    # init 2D F matrix, shape=(len(A)+1, len(B)+1)\n",
    "    F = np.zeros((len(A)+1,len(B)+1))\n",
    "    \n",
    "    AlignmentA = \"\"\n",
    "    AlignmentB = \"\"\n",
    "    \n",
    "    # YOUR CODE HERE\n",
    "    \n",
    "    ###############################################################################################\n",
    "    ### Get F matrix\n",
    "    \n",
    "    \n",
    "    # Dimension of F matrix\n",
    "    rown = len(A) + 1\n",
    "    coln = len(B) + 1\n",
    "    \n",
    "    # Max score and position\n",
    "    max_score = 0\n",
    "    max_pos = None  \n",
    "    \n",
    "    # End_pos where the alignment ends\n",
    "    end_pos = None\n",
    "\n",
    "    F[0 , :] = [0 for _ in range(coln)]  # init first row of F to 0\n",
    "    F[: , 0] = [0 for _ in range(rown)]  # init first col of F to 0\n",
    "    \n",
    "    for i in range(1, rown):\n",
    "        \n",
    "        for j in range(1, coln):\n",
    "            \n",
    "            # If characters are the same, it's a match, otherwise, mismatch\n",
    "            case1 = F[i-1,j-1] + S[A[i-1]][B[j-1]]\n",
    "            \n",
    "            case2 = F[i, j-1] + d  # Align with a gap in A seq\n",
    "            \n",
    "            case3 = F[i-1, j] + d  # Align with a gap in B seq\n",
    "            \n",
    "            # Take the max of the three\n",
    "            score = max(case1, case2, case3)\n",
    "            F[i, j] = score\n",
    "            \n",
    "            # Find the maximum only on the last row of column\n",
    "            if i == (rown - 1) or j == (coln - 1): \n",
    "                \n",
    "                if (score > max_score):\n",
    "                    max_score = score\n",
    "                    max_pos = (i, j)\n",
    "            \n",
    "    ###############################################################################################\n",
    "    ###  Trace Back\n",
    "    \n",
    "    i, j = max_pos  # Set starting point to the max_pos\n",
    "\n",
    "    # Keep loop until reach score 0:\n",
    "    while F[i][j] != 0:\n",
    "\n",
    "        # If move vertically is optimal, insert gap in B sequence.\n",
    "        if F[i, j] == F[i - 1, j] + d:\n",
    "            AlignmentA = A[i - 1] + AlignmentA\n",
    "            AlignmentB = '-' + AlignmentB\n",
    "            i -= 1  # Decrement i\n",
    "\n",
    "        # If move diagonally is optimal, insert one char in both sequences.\n",
    "        elif F[i, j] == F[i - 1, j - 1] + S[A[i - 1]][B[j - 1]]:\n",
    "            AlignmentA = A[i - 1] + AlignmentA\n",
    "            AlignmentB = B[j - 1] + AlignmentB\n",
    "            i -= 1  # Decrement both i and j\n",
    "            j -= 1\n",
    "        \n",
    "        # The only case left, if move horizontally is optimal, insert gap in A sequence.\n",
    "        else:\n",
    "            AlignmentA = '-' + AlignmentA\n",
    "            AlignmentB = B[j - 1] + AlignmentB\n",
    "            j -= 1  # Decrement j\n",
    "        \n",
    "        # When the alignment end, set the end_pos\n",
    "        if F[i][j] == 0:\n",
    "            end_pos = (i, j)\n",
    "    \n",
    "    # B seq has some char left\n",
    "    if end_pos[0] == 0:\n",
    "        \n",
    "        # Adding gap      \n",
    "        AlignmentA = '-' * end_pos[1] + AlignmentA  # Add leading gap to alignment A\n",
    "        AlignmentB = AlignmentB + '-' * (rown - max_pos[0] - 1)  # Add trailing  gaps to alignment B\n",
    "\n",
    "        # Adding sequence\n",
    "        AlignmentA = AlignmentA + A[max_pos[0]:]  # Add trailing sequence to alignment A\n",
    "        AlignmentB = B[:end_pos[1]] + AlignmentB  # Add leading sequence to alignment B\n",
    "    \n",
    "    # A seq has some char left\n",
    "    elif end_pos[1] == 0:\n",
    "        \n",
    "        # Adding gap      \n",
    "        AlignmentB = '-' * end_pos[0] + AlignmentB  # Add leading gap to alignment B\n",
    "        AlignmentA = AlignmentA + '-' * (coln - max_pos[1] - 1)  # Add trailing  gaps to alignment A\n",
    "\n",
    "        # Adding sequence\n",
    "        AlignmentB = AlignmentB + B[max_pos[1]:]  # Add trailing sequence to alignment B\n",
    "        AlignmentA = A[:end_pos[0]] + AlignmentA  # Add leading sequence to alignment B\n",
    "    \n",
    "    \n",
    "    # YOUR CODE FINISHED ABOVE\n",
    "\n",
    "    return AlignmentA, AlignmentB, max_score, F\n",
    "\n",
    "x = 'CCCCC'\n",
    "y = 'GGGGGGG'\n",
    "\n",
    "AlignmentA,AlignmentB,score,F = overlap(x, y, BLOSUM62, -8)\n",
    "print(AlignmentB)\n",
    "print(AlignmentA)\n",
    "print(score)\n",
    "print(F)\n"
   ]
  },
  {
   "cell_type": "code",
   "execution_count": null,
   "metadata": {
    "deletable": false,
    "editable": false,
    "nbgrader": {
     "cell_type": "code",
     "checksum": "2a79aa95477963bbb6a9c39140b84262",
     "grade": true,
     "grade_id": "Q3_overlap_simple_test",
     "locked": true,
     "points": 4,
     "schema_version": 3,
     "solution": false,
     "task": false
    },
    "scrolled": true
   },
   "outputs": [],
   "source": [
    "\"\"\"AUTOMARKING overlap alignment (simple test)\"\"\"\n",
    "x = 'PAWHEAE'\n",
    "y = 'HEAGAWGHEE'\n",
    "\n",
    "AlignmentA,AlignmentB,score,F = overlap(x, y, BLOSUM62, -8)\n",
    "print(AlignmentB)\n",
    "print(AlignmentA)\n",
    "print(score)\n",
    "print(F)\n",
    "\n",
    "assert AlignmentB == \"HEAGAWGHEE-\"\n",
    "assert AlignmentA == \"---PAW-HEAE\"\n",
    "assert score == 17.0"
   ]
  },
  {
   "cell_type": "code",
   "execution_count": null,
   "metadata": {
    "deletable": false,
    "editable": false,
    "nbgrader": {
     "cell_type": "code",
     "checksum": "161eacaaa935708085fe1d704f6f86f6",
     "grade": true,
     "grade_id": "Q3_overlap_hidden_test_1",
     "locked": true,
     "points": 4,
     "schema_version": 3,
     "solution": false,
     "task": false
    }
   },
   "outputs": [],
   "source": [
    "\"\"\"AUTOMARKING overlap alignment using BLOSUM62 (hidden test 1)\"\"\""
   ]
  },
  {
   "cell_type": "code",
   "execution_count": null,
   "metadata": {
    "deletable": false,
    "editable": false,
    "nbgrader": {
     "cell_type": "code",
     "checksum": "a81c0f02634863ad57e63a7cf2cceecd",
     "grade": true,
     "grade_id": "Q3_overlap_hidden_test_2",
     "locked": true,
     "points": 4,
     "schema_version": 3,
     "solution": false,
     "task": false
    }
   },
   "outputs": [],
   "source": [
    "\"\"\"AUTOMARKING overlap alignment using BLOSUM62 (hidden test 2)\"\"\""
   ]
  },
  {
   "cell_type": "code",
   "execution_count": null,
   "metadata": {
    "deletable": false,
    "editable": false,
    "nbgrader": {
     "cell_type": "code",
     "checksum": "63b8cdf618e1df05fb7a831ebab01dc3",
     "grade": true,
     "grade_id": "Q3_overlap_hidden_test_3",
     "locked": true,
     "points": 4,
     "schema_version": 3,
     "solution": false,
     "task": false
    }
   },
   "outputs": [],
   "source": [
    "\"\"\"AUTOMARKING overlap alignment using BLOSUM62 (hidden test 3)\"\"\""
   ]
  },
  {
   "cell_type": "markdown",
   "metadata": {
    "deletable": false,
    "editable": false,
    "nbgrader": {
     "cell_type": "markdown",
     "checksum": "1f42d9d7de82a2a5fd8d4c250a8a3892",
     "grade": false,
     "grade_id": "Q3_overlap_comments",
     "locked": true,
     "points": 4,
     "schema_version": 3,
     "solution": false,
     "task": true
    }
   },
   "source": [
    "MANUAL MARKING the commenting and coding style of the overlap() function"
   ]
  }
 ],
 "metadata": {
  "kernelspec": {
   "display_name": "Python 3",
   "language": "python",
   "name": "python3"
  },
  "language_info": {
   "codemirror_mode": {
    "name": "ipython",
    "version": 3
   },
   "file_extension": ".py",
   "mimetype": "text/x-python",
   "name": "python",
   "nbconvert_exporter": "python",
   "pygments_lexer": "ipython3",
   "version": "3.7.4"
  }
 },
 "nbformat": 4,
 "nbformat_minor": 2
}
